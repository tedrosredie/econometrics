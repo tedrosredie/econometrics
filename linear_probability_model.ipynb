{
  "nbformat": 4,
  "nbformat_minor": 0,
  "metadata": {
    "colab": {
      "provenance": [],
      "authorship_tag": "ABX9TyMazYNeD6jTD8eRAY0Ojw+K"
    },
    "kernelspec": {
      "name": "python3",
      "display_name": "Python 3"
    },
    "language_info": {
      "name": "python"
    }
  },
  "cells": [
    {
      "cell_type": "code",
      "execution_count": 2,
      "metadata": {
        "colab": {
          "base_uri": "https://localhost:8080/"
        },
        "id": "EG4_ck_PEZN5",
        "outputId": "8b445c98-9aa5-4829-8039-4220a9e39dad"
      },
      "outputs": [
        {
          "output_type": "stream",
          "name": "stdout",
          "text": [
            "Collecting wooldridge\n",
            "  Downloading wooldridge-0.4.5-py3-none-any.whl.metadata (2.6 kB)\n",
            "Requirement already satisfied: pandas in /usr/local/lib/python3.12/dist-packages (from wooldridge) (2.2.2)\n",
            "Requirement already satisfied: numpy>=1.26.0 in /usr/local/lib/python3.12/dist-packages (from pandas->wooldridge) (2.0.2)\n",
            "Requirement already satisfied: python-dateutil>=2.8.2 in /usr/local/lib/python3.12/dist-packages (from pandas->wooldridge) (2.9.0.post0)\n",
            "Requirement already satisfied: pytz>=2020.1 in /usr/local/lib/python3.12/dist-packages (from pandas->wooldridge) (2025.2)\n",
            "Requirement already satisfied: tzdata>=2022.7 in /usr/local/lib/python3.12/dist-packages (from pandas->wooldridge) (2025.2)\n",
            "Requirement already satisfied: six>=1.5 in /usr/local/lib/python3.12/dist-packages (from python-dateutil>=2.8.2->pandas->wooldridge) (1.17.0)\n",
            "Downloading wooldridge-0.4.5-py3-none-any.whl (5.1 MB)\n",
            "\u001b[2K   \u001b[90m━━━━━━━━━━━━━━━━━━━━━━━━━━━━━━━━━━━━━━━━\u001b[0m \u001b[32m5.1/5.1 MB\u001b[0m \u001b[31m21.9 MB/s\u001b[0m eta \u001b[36m0:00:00\u001b[0m\n",
            "\u001b[?25hInstalling collected packages: wooldridge\n",
            "Successfully installed wooldridge-0.4.5\n",
            "table: \n",
            "                    b      se       t    pval\n",
            "Intercept      0.5855  0.1536  3.8125  0.0001\n",
            "nwifeinc      -0.0034  0.0016 -2.1852  0.0289\n",
            "educ           0.0380  0.0073  5.1766  0.0000\n",
            "exper          0.0395  0.0060  6.6001  0.0000\n",
            "I(exper ** 2) -0.0006  0.0002 -2.9973  0.0027\n",
            "age           -0.0161  0.0024 -6.6640  0.0000\n",
            "kidslt6       -0.2618  0.0322 -8.1430  0.0000\n",
            "kidsge6        0.0130  0.0137  0.9526  0.3408\n",
            "\n"
          ]
        }
      ],
      "source": [
        "!pip install wooldridge\n",
        "import wooldridge as woo\n",
        "import pandas as pd\n",
        "import statsmodels.formula.api as smf\n",
        "mroz = woo.dataWoo('mroz')\n",
        "# estimate linear probability model:\n",
        "reg_lin = smf.ols(formula='inlf ~ nwifeinc + educ + exper +'\n",
        "                          'I(exper**2) + age + kidslt6 + kidsge6',\n",
        "                  data=mroz)\n",
        "results_lin = reg_lin.fit(cov_type='HC3')\n",
        "# print regression table:\n",
        "table = pd.DataFrame({'b': round(results_lin.params, 4),\n",
        "'se': round(results_lin.bse, 4),\n",
        "'t': round(results_lin.tvalues, 4),\n",
        "'pval': round(results_lin.pvalues, 4)})\n",
        "print(f'table: \\n{table}\\n')\n"
      ]
    },
    {
      "cell_type": "code",
      "source": [
        "import wooldridge as woo\n",
        "import pandas as pd\n",
        "import statsmodels.formula.api as smf\n",
        "\n",
        "mroz = woo.dataWoo('mroz')\n",
        "# estimate linear probability model:\n",
        "reg_lin = smf.ols(formula='inlf ~ nwifeinc + educ + exper +'\n",
        "                          'I(exper**2) + age + kidslt6 + kidsge6',\n",
        "                  data=mroz)\n",
        "results_lin = reg_lin.fit(cov_type='HC3')\n",
        "# predictions for two \"extreme\" women:\n",
        "X_new = pd.DataFrame(\n",
        "    {'nwifeinc': [100, 0], 'educ': [5, 17],\n",
        "    'exper': [0, 30], 'age': [20, 52],\n",
        "    'kidslt6': [2, 0], 'kidsge6': [0, 0]})\n",
        "predictions = results_lin.predict(X_new)\n",
        "print(f'predictions: \\n{predictions}\\n')\n"
      ],
      "metadata": {
        "colab": {
          "base_uri": "https://localhost:8080/"
        },
        "id": "xU0avhmSFili",
        "outputId": "3c8d1b42-9ca0-4767-c476-451bff9e8d3f"
      },
      "execution_count": 6,
      "outputs": [
        {
          "output_type": "stream",
          "name": "stdout",
          "text": [
            "predictions: \n",
            "0   -0.410458\n",
            "1    1.042808\n",
            "dtype: float64\n",
            "\n"
          ]
        }
      ]
    }
  ]
}